{
 "cells": [
  {
   "cell_type": "code",
   "execution_count": null,
   "id": "512f5023",
   "metadata": {},
   "outputs": [
    {
     "data": {
      "text/html": [
       "[a1 = \"ab*\", a2 = \"\"]"
      ],
      "text/plain": [
       "[a1 = \"ab*\", a2 = \"\"]"
      ]
     },
     "execution_count": 5,
     "metadata": {},
     "output_type": "execute_result"
    }
   ],
   "source": [
    "import z3 \n",
    "\n",
    "a1 = z3.String('a1')\n",
    "a2 = z3.String('a2')\n",
    "s = z3.Solver()\n",
    "s.add(a1 + a2 == \"\")\n",
    "s.check()\n",
    "s.model()"
   ]
  },
  {
   "cell_type": "code",
   "execution_count": null,
   "id": "a341ca1b",
   "metadata": {},
   "outputs": [],
   "source": []
  },
  {
   "cell_type": "code",
   "execution_count": null,
   "id": "32093cd1",
   "metadata": {},
   "outputs": [],
   "source": []
  }
 ],
 "metadata": {
  "kernelspec": {
   "display_name": "Python 3",
   "language": "python",
   "name": "python3"
  },
  "language_info": {
   "codemirror_mode": {
    "name": "ipython",
    "version": 3
   },
   "file_extension": ".py",
   "mimetype": "text/x-python",
   "name": "python",
   "nbconvert_exporter": "python",
   "pygments_lexer": "ipython3",
   "version": "3.12.3"
  }
 },
 "nbformat": 4,
 "nbformat_minor": 5
}
